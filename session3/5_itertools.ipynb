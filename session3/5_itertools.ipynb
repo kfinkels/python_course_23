{
 "cells": [
  {
   "cell_type": "code",
   "execution_count": null,
   "metadata": {},
   "outputs": [],
   "source": [
    "# The module standardizes a core set of fast, memory efficient tools that are useful by themselves or in combination.\n",
    "# https://docs.python.org/3/library/itertools.html#itertools\n",
    "from itertools import compress, filterfalse, zip_longest, permutations, combinations"
   ]
  },
  {
   "cell_type": "code",
   "execution_count": null,
   "metadata": {},
   "outputs": [],
   "source": [
    "# (d[0] if s[0]), (d[1] if s[1])...\n",
    "list(compress('ABCDEF', [1,0,1,0,1,1]))"
   ]
  },
  {
   "cell_type": "code",
   "execution_count": null,
   "metadata": {},
   "outputs": [],
   "source": [
    "def is_even(x):\n",
    "    return x%2\n",
    "\n",
    "# keep all false (1==True, 0==False)\n",
    "list(filterfalse(is_even, range(10)))"
   ]
  },
  {
   "cell_type": "code",
   "execution_count": null,
   "metadata": {},
   "outputs": [],
   "source": [
    "# same as zip but with default value for the extra items\n",
    "list(zip_longest(['a', 'b', 'c', 'd'], [1, 2, 3], fillvalue=0))"
   ]
  },
  {
   "cell_type": "code",
   "execution_count": null,
   "metadata": {},
   "outputs": [],
   "source": [
    "# starting 3.10: Unlike the default behavior, it checks that the lengths of iterables are identical, \n",
    "# raising a ValueError if they aren’t\n",
    "list(zip(('a', 'b', 'c'), (1, 2, 3), strict=True))"
   ]
  },
  {
   "cell_type": "code",
   "execution_count": null,
   "metadata": {},
   "outputs": [],
   "source": [
    "# Return successive r length permutations of elements in the iterable.\n",
    "list(permutations([1, 2, 3, 4], 3))"
   ]
  },
  {
   "cell_type": "code",
   "execution_count": null,
   "metadata": {},
   "outputs": [],
   "source": [
    "# Return r length subsequences of elements from the input iterable.\n",
    "list(combinations([1, 2, 3, 4], 2))"
   ]
  },
  {
   "cell_type": "code",
   "execution_count": null,
   "metadata": {},
   "outputs": [],
   "source": []
  }
 ],
 "metadata": {
  "kernelspec": {
   "display_name": "Python 3 (ipykernel)",
   "language": "python",
   "name": "python3"
  },
  "language_info": {
   "codemirror_mode": {
    "name": "ipython",
    "version": 3
   },
   "file_extension": ".py",
   "mimetype": "text/x-python",
   "name": "python",
   "nbconvert_exporter": "python",
   "pygments_lexer": "ipython3",
   "version": "3.11.4"
  }
 },
 "nbformat": 4,
 "nbformat_minor": 4
}
