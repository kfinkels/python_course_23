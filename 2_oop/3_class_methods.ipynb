{
 "cells": [
  {
   "cell_type": "code",
   "execution_count": null,
   "metadata": {},
   "outputs": [],
   "source": [
    "class MyDate:\n",
    "    \n",
    "    # Through the self parameter, instance methods can freely access attributes \n",
    "    # and other methods on the same object. \n",
    "    def __init__(self, day=0, month=0, year=0):\n",
    "        self.day = day\n",
    "        self.month = month\n",
    "        self.year = year\n",
    "\n",
    "    # Instead of accepting a self parameter, class methods take a cls parameter that points to the class\n",
    "    # It can’t modify object instance state.\n",
    "    # Can modify class state that applies across all instances of the class.\n",
    "    # cls is an object that holds the class itself, not an instance of the class.\n",
    "    @classmethod\n",
    "    def from_string(cls, date_as_string):\n",
    "        day, month, year = map(int, date_as_string.split('-'))\n",
    "        date1 = cls(day, month, year)\n",
    "        return date1\n",
    "\n",
    "\n",
    "    # Can neither modify object state nor class state. \n",
    "    # This task is logically bound to the the class, but doesn't require instantiation of it.\n",
    "    @staticmethod\n",
    "    def is_date_valid(date_as_string):\n",
    "        day, month, year = map(int, date_as_string.split('-'))\n",
    "        return day <= 31 and month <= 12 and year <= 3999"
   ]
  },
  {
   "cell_type": "code",
   "execution_count": null,
   "metadata": {},
   "outputs": [],
   "source": [
    "# Calling instance method\n",
    "obj = MyDate(30, 3, 2020)\n",
    "print(obj.day, obj.month, obj.year)"
   ]
  },
  {
   "cell_type": "code",
   "execution_count": null,
   "metadata": {},
   "outputs": [],
   "source": [
    "# This is the same\n",
    "MyDate.__init__(obj, 1, 4, 2020)\n",
    "print(obj.day, obj.month, obj.year)"
   ]
  },
  {
   "cell_type": "code",
   "execution_count": null,
   "metadata": {},
   "outputs": [],
   "source": [
    "# Calling class method: \n",
    "new_date = MyDate.from_string('11-09-2020')\n",
    "print(new_date.day, new_date.month, new_date.year)"
   ]
  },
  {
   "cell_type": "code",
   "execution_count": null,
   "metadata": {},
   "outputs": [],
   "source": [
    "# # We have a date string that we want to validate somehow. \n",
    "MyDate.is_date_valid('11-09-2012')"
   ]
  },
  {
   "cell_type": "code",
   "execution_count": null,
   "metadata": {},
   "outputs": [],
   "source": []
  }
 ],
 "metadata": {
  "kernelspec": {
   "display_name": "Python 3 (ipykernel)",
   "language": "python",
   "name": "python3"
  },
  "language_info": {
   "codemirror_mode": {
    "name": "ipython",
    "version": 3
   },
   "file_extension": ".py",
   "mimetype": "text/x-python",
   "name": "python",
   "nbconvert_exporter": "python",
   "pygments_lexer": "ipython3",
   "version": "3.9.7"
  }
 },
 "nbformat": 4,
 "nbformat_minor": 4
}
