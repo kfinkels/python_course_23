{
 "cells": [
  {
   "cell_type": "code",
   "execution_count": null,
   "metadata": {},
   "outputs": [],
   "source": [
    "# Constractor\n",
    "class Account:\n",
    "    'A simple account class'\n",
    "    \n",
    "    def __init__(self, owner, amount=0):\n",
    "        'This is the constructor that lets us create objects from this class'\n",
    "        self.owner = owner\n",
    "        self.amount = amount\n",
    "        self._transactions = []\n",
    "\n",
    "        \n",
    "acc1 = Account('bob')\n",
    "acc2 = Account('bob', 10)\n",
    "print(acc1)\n",
    "print(acc2)"
   ]
  },
  {
   "cell_type": "code",
   "execution_count": null,
   "metadata": {},
   "outputs": [],
   "source": [
    "# Object Representation: __str__, __repr__\n",
    "class Account:\n",
    "    'A simple account class'\n",
    "    \n",
    "    def __init__(self, owner, amount=0):\n",
    "        'This is the constructor that lets us create objects from this class'\n",
    "        self.owner = owner\n",
    "        self.amount = amount\n",
    "        self._transactions = []\n",
    "    \n",
    "    # The “official” string representation of an object.\n",
    "    def __repr__(self):\n",
    "        return f'Account({self.owner}, {self.amount})'\n",
    "    \n",
    "    # The “informal” or nicely printable string representation of an object. \n",
    "    def __str__(self):\n",
    "        return f'Account of {self.owner} with starting amount: {self.amount}'\n",
    "    \n",
    "\n",
    "acc = Account('bob', 10)\n",
    "print(acc)"
   ]
  },
  {
   "cell_type": "code",
   "execution_count": null,
   "metadata": {},
   "outputs": [],
   "source": [
    "# This will not work\n",
    "len(acc)\n",
    "for item in acc:\n",
    "    print(item)"
   ]
  },
  {
   "cell_type": "code",
   "execution_count": null,
   "metadata": {},
   "outputs": [],
   "source": [
    "# Iteration: __len__, __getitem__\n",
    "class Account:\n",
    "    'A simple account class'\n",
    "    \n",
    "    def __init__(self, owner, amount=0):\n",
    "        'This is the constructor that lets us create objects from this class'\n",
    "        self.owner = owner\n",
    "        self.amount = amount\n",
    "        self._transactions = []\n",
    "    \n",
    "    def __repr__(self):\n",
    "        return f'Account({self.owner}, {self.amount})'\n",
    "    \n",
    "    def __str__(self):\n",
    "        return f'Account of {self.owner} with starting amount: {self.amount}'\n",
    "    \n",
    "    def add_transaction(self, amount):\n",
    "        if not isinstance(amount, int):\n",
    "            raise ValueError('please use int for amount')\n",
    "        self._transactions.append(amount)\n",
    "        \n",
    "    def __len__(self):\n",
    "        return len(self._transactions)\n",
    "    \n",
    "    def __getitem__(self, position):\n",
    "        return self._transactions[position]\n",
    "    "
   ]
  },
  {
   "cell_type": "code",
   "execution_count": null,
   "metadata": {},
   "outputs": [],
   "source": [
    "acc = Account('bob', 10)\n",
    "acc.add_transaction(20)\n",
    "acc.add_transaction(-10)\n",
    "acc.add_transaction(50)\n",
    "acc.add_transaction(-20)\n",
    "acc.add_transaction(30)\n",
    "\n",
    "print('How many transactions were there?')\n",
    "print(len(acc))\n",
    "\n",
    "print('Loop over the transactions')\n",
    "for t in acc:\n",
    "    print(t)\n",
    "    \n",
    "print('Get transtaction by index')\n",
    "acc[1]\n"
   ]
  },
  {
   "cell_type": "code",
   "execution_count": null,
   "metadata": {},
   "outputs": [],
   "source": []
  }
 ],
 "metadata": {
  "kernelspec": {
   "display_name": "Python 3 (ipykernel)",
   "language": "python",
   "name": "python3"
  },
  "language_info": {
   "codemirror_mode": {
    "name": "ipython",
    "version": 3
   },
   "file_extension": ".py",
   "mimetype": "text/x-python",
   "name": "python",
   "nbconvert_exporter": "python",
   "pygments_lexer": "ipython3",
   "version": "3.9.7"
  }
 },
 "nbformat": 4,
 "nbformat_minor": 4
}
