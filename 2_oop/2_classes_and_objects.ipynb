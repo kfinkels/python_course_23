{
 "cells": [
  {
   "cell_type": "code",
   "execution_count": null,
   "metadata": {},
   "outputs": [],
   "source": [
    "class MyClass:\n",
    "    variable = \"blah\"\n",
    "\n",
    "    # self parameter: whenever an object calls its method, the object itself is passed as the first argument. \n",
    "    # obj.func() translates into MyClass.func(ob).\n",
    "    def func1(self, name):\n",
    "        print(f\"This is a message inside the class: {name}.\")\n",
    "        \n",
    "    def func2(self):\n",
    "        self.func1('Keren')\n",
    "        \n",
    "my_class = MyClass()\n",
    "my_class.func1('Hila')\n",
    "my_class.func2()"
   ]
  },
  {
   "cell_type": "code",
   "execution_count": null,
   "metadata": {},
   "outputs": [],
   "source": [
    "class Person:\n",
    "    def __init__(self, fname = '', lname = ''):\n",
    "        self.fname = fname\n",
    "        self.lname = lname\n",
    "\n",
    "    def get_full_name(self):\n",
    "        print(f'{self.fname} {self.lname}')\n",
    "\n",
    "# Create a new Person object\n",
    "c1 = Person('Keren', 'Fin')\n",
    "\n",
    "# Call get_full_name() function\n",
    "# Output: Keren Fin\n",
    "c1.get_full_name()\n",
    "\n",
    "# Create another Person object\n",
    "# and create a new attribute 'age'\n",
    "c2 = Person('Liya', 'Katz')\n",
    "c2.age = 10\n",
    "\n",
    "# Output: (Liya, Katz, 10)\n",
    "print(c2.fname, c2.lname, c2.age)\n",
    "\n",
    "# but c1 object doesn't have attribute 'age'\n",
    "# AttributeError: 'Person' object has no attribute 'age'\n",
    "c1.age\n",
    "\n",
    "# An interesting thing to note in the above step is that attributes of an object can be created on the fly. \n",
    "# We created a new attribute age for object c2 and we read it as well. \n",
    "# But this did not create that attribute for object c1.\n"
   ]
  },
  {
   "cell_type": "code",
   "execution_count": null,
   "metadata": {},
   "outputs": [],
   "source": [
    "# Deleting Attributes\n",
    "del c1.lname\n",
    "c1.get_full_name()"
   ]
  },
  {
   "cell_type": "code",
   "execution_count": null,
   "metadata": {},
   "outputs": [],
   "source": [
    "# no change on c2 object\n",
    "c2.lname"
   ]
  },
  {
   "cell_type": "code",
   "execution_count": null,
   "metadata": {},
   "outputs": [],
   "source": [
    "# Deleting methods\n",
    "del Person.get_full_name\n",
    "c1.get_full_name()"
   ]
  },
  {
   "cell_type": "code",
   "execution_count": null,
   "metadata": {},
   "outputs": [],
   "source": [
    "# Deleting the object\n",
    "del c1\n",
    "c1"
   ]
  },
  {
   "cell_type": "code",
   "execution_count": null,
   "metadata": {},
   "outputs": [],
   "source": [
    "# When we do c1 = Person('Keren','Fin'), a new instance object is created in memory and the name c1 binds with it.\n",
    "# On the command del c1, this binding is removed and the name c1 is deleted from the corresponding namespace. \n",
    "# The object however continues to exist in memory and if no other name is bound to it, it is later automatically \n",
    "# destroyed by the garbage collection."
   ]
  },
  {
   "cell_type": "code",
   "execution_count": null,
   "metadata": {},
   "outputs": [],
   "source": [
    "# Creating a data type (similar to the C “struct”)\n",
    "# bundling together a few named data items. \n",
    "\n",
    "class Employee:\n",
    "    pass\n",
    "\n",
    "john = Employee()  # Create an empty employee record\n",
    "\n",
    "# Fill the fields of the record\n",
    "john.name = 'John Doe'\n",
    "john.dept = 'computer lab'\n",
    "john.salary = 1000"
   ]
  },
  {
   "cell_type": "code",
   "execution_count": null,
   "metadata": {},
   "outputs": [],
   "source": []
  }
 ],
 "metadata": {
  "kernelspec": {
   "display_name": "Python 3 (ipykernel)",
   "language": "python",
   "name": "python3"
  },
  "language_info": {
   "codemirror_mode": {
    "name": "ipython",
    "version": 3
   },
   "file_extension": ".py",
   "mimetype": "text/x-python",
   "name": "python",
   "nbconvert_exporter": "python",
   "pygments_lexer": "ipython3",
   "version": "3.9.7"
  }
 },
 "nbformat": 4,
 "nbformat_minor": 4
}
