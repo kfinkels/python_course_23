{
 "cells": [
  {
   "cell_type": "code",
   "execution_count": null,
   "id": "f8b88077-e3c4-4b17-94e7-b3b444a77c17",
   "metadata": {},
   "outputs": [],
   "source": [
    "add more examples!!!!"
   ]
  },
  {
   "cell_type": "code",
   "execution_count": null,
   "id": "009a1cdc-9dbb-427a-ac33-6259ec98e767",
   "metadata": {},
   "outputs": [],
   "source": [
    "#creating an immutable data class\n",
    "from dataclasses import dataclass\n",
    "\n",
    "@dataclass(frozen = True)\n",
    "class Point():\n",
    "    x : float\n",
    "    y : float\n",
    "    name : str\n",
    "    \n",
    "p1 = Point(2, 3, 'left')\n",
    "p1.name = 'right'  "
   ]
  }
 ],
 "metadata": {
  "kernelspec": {
   "display_name": "Python 3 (ipykernel)",
   "language": "python",
   "name": "python3"
  },
  "language_info": {
   "codemirror_mode": {
    "name": "ipython",
    "version": 3
   },
   "file_extension": ".py",
   "mimetype": "text/x-python",
   "name": "python",
   "nbconvert_exporter": "python",
   "pygments_lexer": "ipython3",
   "version": "3.9.7"
  }
 },
 "nbformat": 4,
 "nbformat_minor": 5
}
