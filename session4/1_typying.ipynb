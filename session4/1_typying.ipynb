{
 "cells": [
  {
   "cell_type": "code",
   "execution_count": 3,
   "id": "c27d97e8-7716-4e99-ad84-b61e18df8425",
   "metadata": {},
   "outputs": [
    {
     "name": "stdout",
     "output_type": "stream",
     "text": [
      "3\n"
     ]
    },
    {
     "ename": "TypeError",
     "evalue": "can only concatenate str (not \"int\") to str",
     "output_type": "error",
     "traceback": [
      "\u001b[0;31m---------------------------------------------------------------------------\u001b[0m",
      "\u001b[0;31mTypeError\u001b[0m                                 Traceback (most recent call last)",
      "Cell \u001b[0;32mIn[3], line 13\u001b[0m\n\u001b[1;32m     11\u001b[0m a \u001b[38;5;241m=\u001b[39m NumberA(\u001b[38;5;124m\"\u001b[39m\u001b[38;5;124m1\u001b[39m\u001b[38;5;124m\"\u001b[39m)\n\u001b[1;32m     12\u001b[0m b \u001b[38;5;241m=\u001b[39m NumberB(\u001b[38;5;241m2\u001b[39m)\n\u001b[0;32m---> 13\u001b[0m \u001b[38;5;28mprint\u001b[39m(\u001b[43ma\u001b[49m\u001b[43m \u001b[49m\u001b[38;5;241;43m+\u001b[39;49m\u001b[43m \u001b[49m\u001b[43mb\u001b[49m) \u001b[38;5;66;03m# get exception\u001b[39;00m\n",
      "\u001b[0;31mTypeError\u001b[0m: can only concatenate str (not \"int\") to str"
     ]
    }
   ],
   "source": [
    "from typing import NewType\n",
    "NumberA = NewType(\"NumberA\", int)\n",
    "NumberB = NewType(\"NumberB\", int)\n",
    "\n",
    "a = NumberA(1)\n",
    "b = NumberB(2)\n",
    "print(a + b) # 3\n",
    "\n",
    "\n",
    "# But when we given wrong input to that type like this\n",
    "a = NumberA(\"1\")\n",
    "b = NumberB(2)\n",
    "print(a + b) # get exception"
   ]
  },
  {
   "cell_type": "code",
   "execution_count": 1,
   "id": "8d5a91ce-27d0-4f65-be13-e5011cc5b628",
   "metadata": {},
   "outputs": [
    {
     "name": "stdout",
     "output_type": "stream",
     "text": [
      "Collecting pydantic\n",
      "  Obtaining dependency information for pydantic from https://files.pythonhosted.org/packages/82/06/fafdc75e48b248eff364b4249af4bcc6952225e8f20e8205820afc66e88e/pydantic-2.3.0-py3-none-any.whl.metadata\n",
      "  Using cached pydantic-2.3.0-py3-none-any.whl.metadata (148 kB)\n",
      "Collecting annotated-types>=0.4.0 (from pydantic)\n",
      "  Obtaining dependency information for annotated-types>=0.4.0 from https://files.pythonhosted.org/packages/d8/f0/a2ee543a96cc624c35a9086f39b1ed2aa403c6d355dfe47a11ee5c64a164/annotated_types-0.5.0-py3-none-any.whl.metadata\n",
      "  Using cached annotated_types-0.5.0-py3-none-any.whl.metadata (11 kB)\n",
      "Collecting pydantic-core==2.6.3 (from pydantic)\n",
      "  Obtaining dependency information for pydantic-core==2.6.3 from https://files.pythonhosted.org/packages/c4/dc/bbc346df4afa3aa4c9ec2a6d22c9fd31c326a2d99a491055d735519c2a3f/pydantic_core-2.6.3-cp311-cp311-macosx_11_0_arm64.whl.metadata\n",
      "  Using cached pydantic_core-2.6.3-cp311-cp311-macosx_11_0_arm64.whl.metadata (6.5 kB)\n",
      "Collecting typing-extensions>=4.6.1 (from pydantic)\n",
      "  Obtaining dependency information for typing-extensions>=4.6.1 from https://files.pythonhosted.org/packages/ec/6b/63cc3df74987c36fe26157ee12e09e8f9db4de771e0f3404263117e75b95/typing_extensions-4.7.1-py3-none-any.whl.metadata\n",
      "  Using cached typing_extensions-4.7.1-py3-none-any.whl.metadata (3.1 kB)\n",
      "Using cached pydantic-2.3.0-py3-none-any.whl (374 kB)\n",
      "Using cached pydantic_core-2.6.3-cp311-cp311-macosx_11_0_arm64.whl (1.6 MB)\n",
      "Using cached annotated_types-0.5.0-py3-none-any.whl (11 kB)\n",
      "Using cached typing_extensions-4.7.1-py3-none-any.whl (33 kB)\n",
      "Installing collected packages: typing-extensions, annotated-types, pydantic-core, pydantic\n",
      "Successfully installed annotated-types-0.5.0 pydantic-2.3.0 pydantic-core-2.6.3 typing-extensions-4.7.1\n"
     ]
    }
   ],
   "source": [
    "import sys\n",
    "!{sys.executable} -m pip install pydantic"
   ]
  },
  {
   "cell_type": "code",
   "execution_count": 2,
   "id": "77d3d714-7a3d-496a-8f7f-71789ce0b67f",
   "metadata": {},
   "outputs": [],
   "source": [
    "# Pydantic - validation library"
   ]
  },
  {
   "cell_type": "code",
   "execution_count": 1,
   "id": "4ebc444b-5fad-43d8-9006-4b2b93265317",
   "metadata": {},
   "outputs": [
    {
     "name": "stdout",
     "output_type": "stream",
     "text": [
      "123\n",
      "{'id': 123, 'name': 'John Doe', 'signup_ts': datetime.datetime(2019, 6, 1, 12, 22), 'tastes': {'wine': 9, 'cheese': 7, 'cabbage': 1}}\n"
     ]
    }
   ],
   "source": [
    "from datetime import datetime\n",
    "\n",
    "from pydantic import BaseModel, PositiveInt\n",
    "\n",
    "\n",
    "class User(BaseModel):\n",
    "    id: int  \n",
    "    name: str = 'John Doe'  \n",
    "    signup_ts: datetime | None  \n",
    "    tastes: dict[str, PositiveInt]  \n",
    "\n",
    "\n",
    "external_data = {\n",
    "    'id': 123,\n",
    "    'signup_ts': '2019-06-01 12:22',  \n",
    "    'tastes': {\n",
    "        'wine': 9,\n",
    "        b'cheese': 7,  \n",
    "        'cabbage': '1',  \n",
    "    },\n",
    "}\n",
    "\n",
    "user = User(**external_data)  \n",
    "\n",
    "print(user.id)  \n",
    "print(user.model_dump())  "
   ]
  },
  {
   "cell_type": "code",
   "execution_count": null,
   "id": "e2200a4c-4cb8-4614-9f15-3fc03a44636e",
   "metadata": {},
   "outputs": [],
   "source": []
  }
 ],
 "metadata": {
  "kernelspec": {
   "display_name": "Python 3 (ipykernel)",
   "language": "python",
   "name": "python3"
  },
  "language_info": {
   "codemirror_mode": {
    "name": "ipython",
    "version": 3
   },
   "file_extension": ".py",
   "mimetype": "text/x-python",
   "name": "python",
   "nbconvert_exporter": "python",
   "pygments_lexer": "ipython3",
   "version": "3.11.4"
  }
 },
 "nbformat": 4,
 "nbformat_minor": 5
}
