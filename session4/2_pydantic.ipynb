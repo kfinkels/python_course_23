{
 "cells": [
  {
   "cell_type": "code",
   "execution_count": 4,
   "id": "219a3f5b-3d2c-4243-9d39-5b0c55b6fde8",
   "metadata": {},
   "outputs": [
    {
     "name": "stdout",
     "output_type": "stream",
     "text": [
      "Requirement already satisfied: pydantic in /Users/kfinkels/tikal/python_course_2023/venv/lib/python3.11/site-packages (2.3.0)\n",
      "Requirement already satisfied: annotated-types>=0.4.0 in /Users/kfinkels/tikal/python_course_2023/venv/lib/python3.11/site-packages (from pydantic) (0.5.0)\n",
      "Requirement already satisfied: pydantic-core==2.6.3 in /Users/kfinkels/tikal/python_course_2023/venv/lib/python3.11/site-packages (from pydantic) (2.6.3)\n",
      "Requirement already satisfied: typing-extensions>=4.6.1 in /Users/kfinkels/tikal/python_course_2023/venv/lib/python3.11/site-packages (from pydantic) (4.7.1)\n"
     ]
    }
   ],
   "source": [
    "# Install a pip package in the current Jupyter kernel\n",
    "import sys\n",
    "!{sys.executable} -m pip install pydantic"
   ]
  },
  {
   "cell_type": "code",
   "execution_count": 5,
   "id": "d063fed5-370f-4a39-bd88-d8f0f2e40f8d",
   "metadata": {},
   "outputs": [],
   "source": [
    "from pydantic import BaseModel\n",
    "\n",
    "class User(BaseModel):\n",
    "    id: int\n",
    "    name: str\n",
    "    age: int\n",
    "    email: str\n",
    "    password: str"
   ]
  },
  {
   "cell_type": "code",
   "execution_count": 6,
   "id": "dc8e09de-0755-46ac-97c7-1a16a016d424",
   "metadata": {},
   "outputs": [],
   "source": [
    "user = User(id=1, name='Alice', age=30, email='alice@example.com', password='secret')"
   ]
  },
  {
   "cell_type": "code",
   "execution_count": 8,
   "id": "8bf09158-0bfa-47aa-8beb-ec2b33170917",
   "metadata": {},
   "outputs": [
    {
     "ename": "ValidationError",
     "evalue": "1 validation error for User\nid\n  Field required [type=missing, input_value={'name': 'Alice', 'age': ...', 'password': 'secret'}, input_type=dict]\n    For further information visit https://errors.pydantic.dev/2.3/v/missing",
     "output_type": "error",
     "traceback": [
      "\u001b[0;31m---------------------------------------------------------------------------\u001b[0m",
      "\u001b[0;31mValidationError\u001b[0m                           Traceback (most recent call last)",
      "Cell \u001b[0;32mIn[8], line 1\u001b[0m\n\u001b[0;32m----> 1\u001b[0m user_error \u001b[38;5;241m=\u001b[39m \u001b[43mUser\u001b[49m\u001b[43m(\u001b[49m\u001b[43mname\u001b[49m\u001b[38;5;241;43m=\u001b[39;49m\u001b[38;5;124;43m'\u001b[39;49m\u001b[38;5;124;43mAlice\u001b[39;49m\u001b[38;5;124;43m'\u001b[39;49m\u001b[43m,\u001b[49m\u001b[43m \u001b[49m\u001b[43mage\u001b[49m\u001b[38;5;241;43m=\u001b[39;49m\u001b[38;5;241;43m30\u001b[39;49m\u001b[43m,\u001b[49m\u001b[43m \u001b[49m\u001b[43memail\u001b[49m\u001b[38;5;241;43m=\u001b[39;49m\u001b[38;5;124;43m'\u001b[39;49m\u001b[38;5;124;43malice@example.com\u001b[39;49m\u001b[38;5;124;43m'\u001b[39;49m\u001b[43m,\u001b[49m\u001b[43m \u001b[49m\u001b[43mpassword\u001b[49m\u001b[38;5;241;43m=\u001b[39;49m\u001b[38;5;124;43m'\u001b[39;49m\u001b[38;5;124;43msecret\u001b[39;49m\u001b[38;5;124;43m'\u001b[39;49m\u001b[43m)\u001b[49m\n",
      "File \u001b[0;32m~/tikal/python_course_2023/venv/lib/python3.11/site-packages/pydantic/main.py:165\u001b[0m, in \u001b[0;36mBaseModel.__init__\u001b[0;34m(__pydantic_self__, **data)\u001b[0m\n\u001b[1;32m    163\u001b[0m \u001b[38;5;66;03m# `__tracebackhide__` tells pytest and some other tools to omit this function from tracebacks\u001b[39;00m\n\u001b[1;32m    164\u001b[0m __tracebackhide__ \u001b[38;5;241m=\u001b[39m \u001b[38;5;28;01mTrue\u001b[39;00m\n\u001b[0;32m--> 165\u001b[0m \u001b[43m__pydantic_self__\u001b[49m\u001b[38;5;241;43m.\u001b[39;49m\u001b[43m__pydantic_validator__\u001b[49m\u001b[38;5;241;43m.\u001b[39;49m\u001b[43mvalidate_python\u001b[49m\u001b[43m(\u001b[49m\u001b[43mdata\u001b[49m\u001b[43m,\u001b[49m\u001b[43m \u001b[49m\u001b[43mself_instance\u001b[49m\u001b[38;5;241;43m=\u001b[39;49m\u001b[43m__pydantic_self__\u001b[49m\u001b[43m)\u001b[49m\n",
      "\u001b[0;31mValidationError\u001b[0m: 1 validation error for User\nid\n  Field required [type=missing, input_value={'name': 'Alice', 'age': ...', 'password': 'secret'}, input_type=dict]\n    For further information visit https://errors.pydantic.dev/2.3/v/missing"
     ]
    }
   ],
   "source": [
    "user_error = User(name='Alice', age=30, email='alice@example.com', password='secret')"
   ]
  },
  {
   "cell_type": "code",
   "execution_count": 10,
   "id": "bc761a77-ffc4-4cb9-b0dc-478fdd6d0710",
   "metadata": {},
   "outputs": [
    {
     "name": "stdout",
     "output_type": "stream",
     "text": [
      "{'id': 1, 'name': 'Alice', 'age': 30, 'email': 'alice@example.com', 'password': 'secret'}\n"
     ]
    }
   ],
   "source": [
    "data = user.model_dump()  # Serialize to a dictionary\n",
    "print(data)"
   ]
  },
  {
   "cell_type": "code",
   "execution_count": 12,
   "id": "c7e72304-b247-4889-880c-96a3036f1bd0",
   "metadata": {},
   "outputs": [
    {
     "name": "stdout",
     "output_type": "stream",
     "text": [
      "Exception as str:\n",
      "1 validation error for Person\n",
      "age\n",
      "  Field required [type=missing, input_value={'age1': 10, 'name': 'Joh...es': ['pt-pt', 'en-us']}, input_type=dict]\n",
      "    For further information visit https://errors.pydantic.dev/2.3/v/missing\n",
      "Exception as json:\n",
      "[{\"type\":\"missing\",\"loc\":[\"age\"],\"msg\":\"Field required\",\"input\":{\"age1\":10,\"name\":\"John\",\"is_married\":false,\"address\":{\"street\":\"st street\",\"building\":10},\"languages\":[\"pt-pt\",\"en-us\"]},\"url\":\"https://errors.pydantic.dev/2.3/v/missing\"}]\n"
     ]
    }
   ],
   "source": [
    "# Nested models and lists\n",
    "from typing import List\n",
    "from pydantic import BaseModel, ValidationError\n",
    " \n",
    "class Address(BaseModel):\n",
    "    street: str\n",
    "    building: int\n",
    " \n",
    "class Person(BaseModel):\n",
    "    age: int\n",
    "    name: str\n",
    "    is_married: bool\n",
    "    address: Address\n",
    "    languages: List[str]\n",
    " \n",
    " \n",
    "data = {\n",
    "    'age': 10,\n",
    "    'name': 'John',\n",
    "    'is_married': False,\n",
    "    'address': {\n",
    "        'street': 'st street',\n",
    "        'building': 10\n",
    "    },\n",
    "    'languages':['pt-pt', 'en-us']\n",
    "}\n",
    " \n",
    "try:\n",
    "    person = Person(**data)\n",
    "    print(person.model_dump())\n",
    " \n",
    "except ValidationError as e:\n",
    "    print(\"Exception as str:\")\n",
    "    print(e)\n",
    "    print(\"Exception as json:\")\n",
    "    print(e.json())"
   ]
  },
  {
   "cell_type": "code",
   "execution_count": null,
   "id": "6c77d90c-4782-424a-a9ca-6d304249c6db",
   "metadata": {},
   "outputs": [],
   "source": []
  }
 ],
 "metadata": {
  "kernelspec": {
   "display_name": "Python 3 (ipykernel)",
   "language": "python",
   "name": "python3"
  },
  "language_info": {
   "codemirror_mode": {
    "name": "ipython",
    "version": 3
   },
   "file_extension": ".py",
   "mimetype": "text/x-python",
   "name": "python",
   "nbconvert_exporter": "python",
   "pygments_lexer": "ipython3",
   "version": "3.11.4"
  }
 },
 "nbformat": 4,
 "nbformat_minor": 5
}
