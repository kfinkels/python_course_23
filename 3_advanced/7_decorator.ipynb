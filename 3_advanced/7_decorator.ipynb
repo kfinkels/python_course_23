{
 "cells": [
  {
   "cell_type": "code",
   "execution_count": null,
   "metadata": {},
   "outputs": [],
   "source": [
    "def smart_divide(func):\n",
    "   def inner(a,b):\n",
    "      if b == 0:\n",
    "         print(\"Whoops! cannot divide\")\n",
    "         return\n",
    "      return func(a,b)\n",
    "\n",
    "   return inner\n",
    "\n",
    "@smart_divide\n",
    "def divide(a,b):\n",
    "    return a/b\n",
    "\n",
    "divide(10, 0)"
   ]
  },
  {
   "cell_type": "code",
   "execution_count": null,
   "metadata": {},
   "outputs": [],
   "source": [
    "def star(func):\n",
    "    def inner(*args, **kwargs):\n",
    "        print(\"*\" * 30)\n",
    "        func(*args, **kwargs)\n",
    "        print(\"*\" * 30)\n",
    "    return inner\n",
    "\n",
    "def percent(func):\n",
    "    def inner(*args, **kwargs):\n",
    "        print(\"%\" * 30)\n",
    "        func(*args, **kwargs)\n",
    "        print(\"%\" * 30)\n",
    "    return inner\n",
    "\n",
    "@star\n",
    "@percent\n",
    "def printer(msg):\n",
    "    print(msg)\n",
    "    \n",
    "printer(\"Hello\")"
   ]
  },
  {
   "cell_type": "code",
   "execution_count": null,
   "metadata": {},
   "outputs": [],
   "source": [
    "# decorator that accept a parameter\n",
    "def deco(char):\n",
    "    def wrap(func):\n",
    "        def inner(*args, **kwargs):\n",
    "            print(char * 30)\n",
    "            func(*args, **kwargs)\n",
    "            print(\"*\" * 30)\n",
    "        return inner\n",
    "    return wrap\n",
    "\n",
    "\n",
    "@deco('*')\n",
    "def printer(msg):\n",
    "    print(msg)\n",
    "    \n",
    "printer(\"Hello\")"
   ]
  },
  {
   "cell_type": "code",
   "execution_count": null,
   "metadata": {},
   "outputs": [],
   "source": []
  }
 ],
 "metadata": {
  "kernelspec": {
   "display_name": "Python 3 (ipykernel)",
   "language": "python",
   "name": "python3"
  },
  "language_info": {
   "codemirror_mode": {
    "name": "ipython",
    "version": 3
   },
   "file_extension": ".py",
   "mimetype": "text/x-python",
   "name": "python",
   "nbconvert_exporter": "python",
   "pygments_lexer": "ipython3",
   "version": "3.9.7"
  }
 },
 "nbformat": 4,
 "nbformat_minor": 4
}
