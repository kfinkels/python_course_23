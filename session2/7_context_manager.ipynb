{
 "cells": [
  {
   "cell_type": "code",
   "execution_count": null,
   "metadata": {},
   "outputs": [],
   "source": [
    "# The object passed to the with statement must have __enter__ and __exit__ methods.\n",
    "class LoggerManager:\n",
    "    def __init__(self, name):\n",
    "        self.method_name = name\n",
    "        \n",
    "    def __enter__(self):\n",
    "        print(self.method_name + ' start')\n",
    "    \n",
    "    def __exit__(self, *exc):\n",
    "        print(self.method_name + ' end')"
   ]
  },
  {
   "cell_type": "code",
   "execution_count": null,
   "metadata": {},
   "outputs": [],
   "source": [
    "class AClass:\n",
    "    def func(self):\n",
    "        # could be implemented with decorator (lesson 3)\n",
    "        with LoggerManager('func') as logger:\n",
    "            print('do some func stuff')\n",
    "        \n",
    "AClass().func()"
   ]
  },
  {
   "cell_type": "code",
   "execution_count": null,
   "metadata": {},
   "outputs": [],
   "source": [
    "# The object passed to the with statement must have __enter__ and __exit__ methods.\n",
    "class FileManager:\n",
    "    def __init__(self, filename):\n",
    "        self.filename = filename\n",
    "        \n",
    "    # The __enter__ method must return the resource that's to be used in the with block.\n",
    "    def __enter__(self):\n",
    "        try:\n",
    "            self.opened_file = open(self.filename)\n",
    "            return self.opened_file\n",
    "        except:\n",
    "            pass\n",
    "    \n",
    "    def __exit__(self, *exc):\n",
    "        if self.opened_file:\n",
    "            self.opened_file.close()"
   ]
  },
  {
   "cell_type": "code",
   "execution_count": null,
   "metadata": {},
   "outputs": [],
   "source": [
    "file = FileManager('readme.md')\n",
    "with file as managed_file:\n",
    "    text = managed_file.read()\n",
    "    print(text)"
   ]
  },
  {
   "cell_type": "code",
   "execution_count": null,
   "metadata": {},
   "outputs": [],
   "source": [
    "with FileManager('readme.md') as managed_file:\n",
    "    text = managed_file.read()\n",
    "    print(text)"
   ]
  },
  {
   "cell_type": "code",
   "execution_count": null,
   "metadata": {},
   "outputs": [],
   "source": [
    "def open_file(filename):\n",
    "    file = FileManager(filename)\n",
    "    return file\n",
    "\n",
    "with open_file('readme.md') as managed_file:\n",
    "    text = managed_file.read()\n",
    "    print(text)"
   ]
  },
  {
   "cell_type": "code",
   "execution_count": null,
   "metadata": {},
   "outputs": [],
   "source": [
    "import this"
   ]
  },
  {
   "cell_type": "code",
   "execution_count": null,
   "metadata": {},
   "outputs": [],
   "source": []
  }
 ],
 "metadata": {
  "kernelspec": {
   "display_name": "Python 3",
   "language": "python",
   "name": "python3"
  },
  "language_info": {
   "codemirror_mode": {
    "name": "ipython",
    "version": 3
   },
   "file_extension": ".py",
   "mimetype": "text/x-python",
   "name": "python",
   "nbconvert_exporter": "python",
   "pygments_lexer": "ipython3",
   "version": "3.9.12"
  }
 },
 "nbformat": 4,
 "nbformat_minor": 4
}
