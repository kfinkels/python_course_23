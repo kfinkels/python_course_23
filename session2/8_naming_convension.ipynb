{
 "cells": [
  {
   "cell_type": "code",
   "execution_count": null,
   "id": "c3b53775-ccfe-49c1-b6d0-a96b6b00d6cb",
   "metadata": {},
   "outputs": [],
   "source": [
    "# Some naming convesions\n",
    "class A:\n",
    "    __private_var = 'private'\n",
    "    _please_consider_me_as_protected = 'protected'\n",
    "    public_var = 'public'\n",
    "    \n",
    "a = A()\n",
    "print(a.public_var)\n",
    "print(a._please_consider_me_as_protected)\n",
    "print(a.__private_var)"
   ]
  }
 ],
 "metadata": {
  "kernelspec": {
   "display_name": "Python 3 (ipykernel)",
   "language": "python",
   "name": "python3"
  },
  "language_info": {
   "codemirror_mode": {
    "name": "ipython",
    "version": 3
   },
   "file_extension": ".py",
   "mimetype": "text/x-python",
   "name": "python",
   "nbconvert_exporter": "python",
   "pygments_lexer": "ipython3",
   "version": "3.11.4"
  }
 },
 "nbformat": 4,
 "nbformat_minor": 5
}
