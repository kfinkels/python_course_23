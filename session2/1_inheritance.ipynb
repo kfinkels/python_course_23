{
 "cells": [
  {
   "cell_type": "code",
   "execution_count": null,
   "metadata": {},
   "outputs": [],
   "source": [
    "class Person:\n",
    "    def __init__(self, fname, lname):\n",
    "        self.firstname = fname\n",
    "        self.lastname = lname\n",
    "\n",
    "    def print_name(self):\n",
    "        print(self.firstname, self.lastname)\n",
    "    \n",
    "    \n",
    "class Student(Person):\n",
    "    def __init__(self, fname, lname, grade):\n",
    "        super().__init__(fname, lname)\n",
    "        self.grade = grade\n",
    "        \n",
    "    def print_grage(self):\n",
    "        print(self.grade)\n",
    "        \n",
    "student = Student('keren', 'fin', 100)\n",
    "student.print_name()\n",
    "student.print_grage()\n",
    "# This will not work\n",
    "# student2 = Student('chen', 'cohen')\n"
   ]
  },
  {
   "cell_type": "code",
   "execution_count": null,
   "metadata": {},
   "outputs": [],
   "source": [
    "isinstance(student, Student)"
   ]
  },
  {
   "cell_type": "code",
   "execution_count": null,
   "metadata": {},
   "outputs": [],
   "source": [
    "isinstance(student, Person)"
   ]
  },
  {
   "cell_type": "code",
   "execution_count": null,
   "metadata": {},
   "outputs": [],
   "source": [
    "issubclass(Student, Person)"
   ]
  },
  {
   "cell_type": "code",
   "execution_count": null,
   "metadata": {},
   "outputs": [],
   "source": [
    "issubclass(bool, int)"
   ]
  },
  {
   "cell_type": "code",
   "execution_count": null,
   "metadata": {},
   "outputs": [],
   "source": [
    "# Multiple Inheritance\n",
    "class Base1:\n",
    "    def func(self):\n",
    "        print('Base1')\n",
    "\n",
    "        \n",
    "class Base2:\n",
    "    def func(self):\n",
    "        print('Base2')\n",
    "\n",
    "\n",
    "class MultiDerived(Base1, Base2):\n",
    "    pass\n",
    "\n",
    "md = MultiDerived()\n",
    "md.func()\n",
    "MultiDerived.__mro__"
   ]
  },
  {
   "cell_type": "code",
   "execution_count": null,
   "metadata": {},
   "outputs": [],
   "source": [
    "# Multilevel Inheritance\n",
    "class Base:\n",
    "    pass\n",
    "\n",
    "class Derived(Base):\n",
    "    pass\n",
    "\n",
    "class MultilevelDerived(Derived):\n",
    "    pass"
   ]
  },
  {
   "cell_type": "code",
   "execution_count": null,
   "metadata": {},
   "outputs": [],
   "source": [
    "# Method Resolution Order (MRO): In the multiple inheritance scenario, any specified attribute is searched first in the current class. \n",
    "# If not found, the search continues into parent classes in depth-first, left-right fashion without searching same class twice.\n",
    "MultilevelDerived.__mro__"
   ]
  },
  {
   "cell_type": "code",
   "execution_count": null,
   "metadata": {},
   "outputs": [],
   "source": []
  }
 ],
 "metadata": {
  "kernelspec": {
   "display_name": "Python 3 (ipykernel)",
   "language": "python",
   "name": "python3"
  },
  "language_info": {
   "codemirror_mode": {
    "name": "ipython",
    "version": 3
   },
   "file_extension": ".py",
   "mimetype": "text/x-python",
   "name": "python",
   "nbconvert_exporter": "python",
   "pygments_lexer": "ipython3",
   "version": "3.11.4"
  }
 },
 "nbformat": 4,
 "nbformat_minor": 4
}
