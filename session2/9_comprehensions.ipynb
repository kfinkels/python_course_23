{
 "cells": [
  {
   "cell_type": "code",
   "execution_count": null,
   "metadata": {},
   "outputs": [],
   "source": [
    "a_list = [1, '4', 9, 'a', 0, 4]\n",
    "new_list = []\n",
    "for num in a_list:\n",
    "    if isinstance(num, int):\n",
    "        new_list.append(num**2)\n",
    "print(new_list)"
   ]
  },
  {
   "cell_type": "code",
   "execution_count": null,
   "metadata": {},
   "outputs": [],
   "source": [
    "# building one list from another in one line\n",
    "[num**2 for num in a_list if isinstance(num, int)]"
   ]
  },
  {
   "cell_type": "code",
   "execution_count": null,
   "metadata": {},
   "outputs": [],
   "source": [
    "# nested for \n",
    "colours = [\"red\", \"green\", \"yellow\", \"blue\"]\n",
    "things = [\"house\", \"car\", \"tree\"]\n",
    "[(x,y) for x in colours for y in things]"
   ]
  },
  {
   "cell_type": "code",
   "execution_count": null,
   "metadata": {},
   "outputs": [],
   "source": [
    "# An example from our Deck class\n",
    "class Card:\n",
    "    def __init__(self, suit, value):\n",
    "        self.suit = suit\n",
    "        self.value = value\n",
    "        \n",
    "    def __repr__(self):\n",
    "        return f'{self.value} {self.suit}'\n",
    "\n",
    "\n",
    "suits = ['Hearts','Diamonds','Clubs','Spades'] \n",
    "values = ['A','2','3','4','5','6','7','8','9','10','J','Q','K']\n",
    "\n",
    "cards = []\n",
    "for suit in suits:\n",
    "    for value in values:\n",
    "        cards.append(Card(suit, value))\n",
    "        \n",
    "print(cards)\n",
    "print('*' * 10)\n",
    "print([Card(suit, value) for value in values for suit in suits])\n"
   ]
  },
  {
   "cell_type": "code",
   "execution_count": null,
   "metadata": {},
   "outputs": [],
   "source": [
    "# nested if\n",
    "[x for x in range(100) if x % 2 == 0 if x % 5 == 0]"
   ]
  },
  {
   "cell_type": "code",
   "execution_count": null,
   "metadata": {},
   "outputs": [],
   "source": [
    "# if...else\n",
    "[f\"{i} is even\" if i%2==0 else f\"{i} is odd\" for i in range(10)]"
   ]
  },
  {
   "cell_type": "code",
   "execution_count": null,
   "metadata": {},
   "outputs": [],
   "source": [
    "# set - the same as list, drops repeated items\n",
    "{x for x in 'abracadabra' if x not in 'abc'}"
   ]
  },
  {
   "cell_type": "code",
   "execution_count": null,
   "metadata": {},
   "outputs": [],
   "source": [
    "# dict - remember to use keys, values, items\n",
    "dict1 = {'a': 1, 'b': 2, 'c': 3, 'd': 4, 'e': 5}\n",
    "{k:v*2 for k,v in dict1.items()}"
   ]
  },
  {
   "cell_type": "code",
   "execution_count": null,
   "metadata": {},
   "outputs": [],
   "source": [
    "# reverse keys\\values\n",
    "dict1 = {'a': ['x'], 'x': ['y'], 'y': ['z']}\n",
    "{v[0]:[k] for k,v in dict1.items()}"
   ]
  },
  {
   "cell_type": "code",
   "execution_count": null,
   "metadata": {},
   "outputs": [],
   "source": []
  }
 ],
 "metadata": {
  "kernelspec": {
   "display_name": "Python 3",
   "language": "python",
   "name": "python3"
  },
  "language_info": {
   "codemirror_mode": {
    "name": "ipython",
    "version": 3
   },
   "file_extension": ".py",
   "mimetype": "text/x-python",
   "name": "python",
   "nbconvert_exporter": "python",
   "pygments_lexer": "ipython3",
   "version": "3.9.12"
  }
 },
 "nbformat": 4,
 "nbformat_minor": 4
}
