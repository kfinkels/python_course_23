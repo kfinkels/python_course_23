{
 "cells": [
  {
   "cell_type": "code",
   "execution_count": null,
   "metadata": {},
   "outputs": [],
   "source": [
    "# try-except\n",
    "try:\n",
    "   fh = open(\"testfile.txt\", \"r\")\n",
    "   fh.write(\"This is my test file for exception handling!!\")\n",
    "except Exception as ex:\n",
    "    print(f\"Error: {ex}\")\n",
    "# except IOError as ex:\n",
    "#     print(f\"IOError: {ex}\")\n",
    "# except FileNotFoundError as e:\n",
    "#     print(f\"FileNotFoundError: {ex}\")\n",
    "except (FileNotFoundError) as ex:\n",
    "    print(f\"Error: {ex}\")"
   ]
  },
  {
   "cell_type": "code",
   "execution_count": null,
   "metadata": {},
   "outputs": [],
   "source": [
    "# try-except-else\n",
    "# 'else' is better than adding code to the try clause because it avoids accidentally catching an exception \n",
    "# that wasn’t raised by the code being protected by the try … except statement.\n",
    "try:\n",
    "#     fh = open(\"testfile_r\", \"r+\")\n",
    "    fh = open(\"testfile_w\", \"w\")\n",
    "except Exception as ex:\n",
    "    print(\"Error: can't find file or read data\")\n",
    "else:\n",
    "    print('in else')\n",
    "    fh.write(\"This is my test file for exception handling!!\")\n",
    "    fh.close()"
   ]
  },
  {
   "cell_type": "code",
   "execution_count": null,
   "metadata": {},
   "outputs": [],
   "source": [
    "# try-except-finally\n",
    "try:\n",
    "    fh = open(\"testfile\", \"w\")\n",
    "    fh.write(\"This is my test file for exception handling!!\")\n",
    "# except Exception as ex:\n",
    "#     print(\"Error: can't find file or read data\")\n",
    "finally:\n",
    "    print(\"closing the stream\")\n",
    "    fh.close()"
   ]
  },
  {
   "cell_type": "code",
   "execution_count": null,
   "metadata": {},
   "outputs": [],
   "source": [
    "# raising an exception\n",
    "def func( level ):\n",
    "   if level < 1:\n",
    "      raise Exception(f\"Invalid level: {level}\")\n",
    "func(0)"
   ]
  },
  {
   "cell_type": "code",
   "execution_count": null,
   "metadata": {},
   "outputs": [],
   "source": [
    "# writing your own exception\n",
    "class DivideException(Exception):\n",
    "    def __init__(self, level):\n",
    "        # Call the base class constructor with the parameters it needs\n",
    "        super().__init__(f\"Invalid level: {level}\")\n",
    "\n",
    "def func( level ):\n",
    "   if level < 1:\n",
    "      raise DivideException(level)\n",
    "func(0)"
   ]
  },
  {
   "cell_type": "code",
   "execution_count": null,
   "metadata": {},
   "outputs": [],
   "source": []
  }
 ],
 "metadata": {
  "kernelspec": {
   "display_name": "Python 3 (ipykernel)",
   "language": "python",
   "name": "python3"
  },
  "language_info": {
   "codemirror_mode": {
    "name": "ipython",
    "version": 3
   },
   "file_extension": ".py",
   "mimetype": "text/x-python",
   "name": "python",
   "nbconvert_exporter": "python",
   "pygments_lexer": "ipython3",
   "version": "3.11.4"
  }
 },
 "nbformat": 4,
 "nbformat_minor": 4
}
