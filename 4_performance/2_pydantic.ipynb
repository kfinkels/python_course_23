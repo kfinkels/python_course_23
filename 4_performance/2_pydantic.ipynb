{
 "cells": [
  {
   "cell_type": "code",
   "execution_count": null,
   "id": "219a3f5b-3d2c-4243-9d39-5b0c55b6fde8",
   "metadata": {},
   "outputs": [],
   "source": [
    "# Install a pip package in the current Jupyter kernel\n",
    "import sys\n",
    "!{sys.executable} -m pip install pydantic"
   ]
  },
  {
   "cell_type": "code",
   "execution_count": null,
   "id": "d063fed5-370f-4a39-bd88-d8f0f2e40f8d",
   "metadata": {},
   "outputs": [],
   "source": [
    "from pydantic import BaseModel\n",
    "\n",
    "class User(BaseModel):\n",
    "    id: int\n",
    "    name: str\n",
    "    age: int\n",
    "    email: str\n",
    "    password: str"
   ]
  },
  {
   "cell_type": "code",
   "execution_count": null,
   "id": "dc8e09de-0755-46ac-97c7-1a16a016d424",
   "metadata": {},
   "outputs": [],
   "source": [
    "user = User(id=1, name='Alice', age=30, email='alice@example.com', password='secret')"
   ]
  },
  {
   "cell_type": "code",
   "execution_count": null,
   "id": "8bf09158-0bfa-47aa-8beb-ec2b33170917",
   "metadata": {},
   "outputs": [],
   "source": [
    "user_error = User(name='Alice', age=30, email='alice@example.com', password='secret')"
   ]
  },
  {
   "cell_type": "code",
   "execution_count": null,
   "id": "bc761a77-ffc4-4cb9-b0dc-478fdd6d0710",
   "metadata": {},
   "outputs": [],
   "source": [
    "data = user.model_dump()  # Serialize to a dictionary\n",
    "print(data)"
   ]
  },
  {
   "cell_type": "code",
   "execution_count": null,
   "id": "c7e72304-b247-4889-880c-96a3036f1bd0",
   "metadata": {},
   "outputs": [],
   "source": [
    "# Nested models and lists\n",
    "from typing import List\n",
    "from pydantic import BaseModel, ValidationError\n",
    " \n",
    "class Address(BaseModel):\n",
    "    street: str\n",
    "    building: int\n",
    " \n",
    "class Person(BaseModel):\n",
    "    age: int\n",
    "    name: str\n",
    "    is_married: bool\n",
    "    address: Address\n",
    "    languages: List[str]\n",
    " \n",
    " \n",
    "data = {\n",
    "    'age': 10,\n",
    "    'name': 'John',\n",
    "    'is_married': False,\n",
    "    'address': {\n",
    "        'street': 'st street',\n",
    "        'building': 10\n",
    "    },\n",
    "    'languages':['pt-pt', 'en-us']\n",
    "}\n",
    " \n",
    "try:\n",
    "    person = Person(**data)\n",
    "    print(person.model_dump())\n",
    " \n",
    "except ValidationError as e:\n",
    "    print(\"Exception as str:\")\n",
    "    print(e)\n",
    "    print(\"Exception as json:\")\n",
    "    print(e.json())"
   ]
  },
  {
   "cell_type": "code",
   "execution_count": null,
   "id": "6c77d90c-4782-424a-a9ca-6d304249c6db",
   "metadata": {},
   "outputs": [],
   "source": []
  }
 ],
 "metadata": {
  "kernelspec": {
   "display_name": "Python 3 (ipykernel)",
   "language": "python",
   "name": "python3"
  },
  "language_info": {
   "codemirror_mode": {
    "name": "ipython",
    "version": 3
   },
   "file_extension": ".py",
   "mimetype": "text/x-python",
   "name": "python",
   "nbconvert_exporter": "python",
   "pygments_lexer": "ipython3",
   "version": "3.9.7"
  }
 },
 "nbformat": 4,
 "nbformat_minor": 5
}
