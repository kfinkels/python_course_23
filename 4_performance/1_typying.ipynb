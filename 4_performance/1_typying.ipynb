{
 "cells": [
  {
   "cell_type": "code",
   "execution_count": null,
   "id": "c27d97e8-7716-4e99-ad84-b61e18df8425",
   "metadata": {},
   "outputs": [],
   "source": [
    "from typing import NewType\n",
    "NumberA = NewType(\"NumberA\", int)\n",
    "NumberB = NewType(\"NumberB\", int)\n",
    "\n",
    "a = NumberA(1)\n",
    "b = NumberB(2)\n",
    "print(a + b) # 3\n",
    "\n",
    "\n",
    "# But when we given wrong input to that type like this\n",
    "a = NumberA(\"1\")\n",
    "b = NumberB(2)\n",
    "print(a + b) # get exception"
   ]
  },
  {
   "cell_type": "code",
   "execution_count": null,
   "id": "8d5a91ce-27d0-4f65-be13-e5011cc5b628",
   "metadata": {},
   "outputs": [],
   "source": [
    "import sys\n",
    "!{sys.executable} -m pip install pydantic"
   ]
  },
  {
   "cell_type": "code",
   "execution_count": null,
   "id": "77d3d714-7a3d-496a-8f7f-71789ce0b67f",
   "metadata": {},
   "outputs": [],
   "source": [
    "# Pydantic - validation library"
   ]
  },
  {
   "cell_type": "code",
   "execution_count": null,
   "id": "4ebc444b-5fad-43d8-9006-4b2b93265317",
   "metadata": {},
   "outputs": [],
   "source": [
    "from datetime import datetime\n",
    "\n",
    "from pydantic import BaseModel, PositiveInt\n",
    "\n",
    "\n",
    "class User(BaseModel):\n",
    "    id: int  \n",
    "    name: str = 'John Doe'  \n",
    "    signup_ts: datetime | None  \n",
    "    tastes: dict[str, PositiveInt]  \n",
    "\n",
    "\n",
    "external_data = {\n",
    "    'id': 123,\n",
    "    'signup_ts': '2019-06-01 12:22',  \n",
    "    'tastes': {\n",
    "        'wine': 9,\n",
    "        b'cheese': 7,  \n",
    "        'cabbage': '1',  \n",
    "    },\n",
    "}\n",
    "\n",
    "user = User(**external_data)  \n",
    "\n",
    "print(user.id)  \n",
    "print(user.model_dump())  "
   ]
  },
  {
   "cell_type": "code",
   "execution_count": null,
   "id": "e2200a4c-4cb8-4614-9f15-3fc03a44636e",
   "metadata": {},
   "outputs": [],
   "source": []
  }
 ],
 "metadata": {
  "kernelspec": {
   "display_name": "Python 3 (ipykernel)",
   "language": "python",
   "name": "python3"
  },
  "language_info": {
   "codemirror_mode": {
    "name": "ipython",
    "version": 3
   },
   "file_extension": ".py",
   "mimetype": "text/x-python",
   "name": "python",
   "nbconvert_exporter": "python",
   "pygments_lexer": "ipython3",
   "version": "3.9.7"
  }
 },
 "nbformat": 4,
 "nbformat_minor": 5
}
