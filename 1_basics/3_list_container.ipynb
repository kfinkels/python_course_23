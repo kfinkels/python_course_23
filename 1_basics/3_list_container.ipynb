{
 "cells": [
  {
   "cell_type": "code",
   "execution_count": null,
   "metadata": {},
   "outputs": [],
   "source": [
    "# creating a list\n",
    "new_list = []\n",
    "type(new_list)"
   ]
  },
  {
   "cell_type": "code",
   "execution_count": null,
   "metadata": {},
   "outputs": [],
   "source": [
    "# list is a collection which is ordered and changeable\n",
    "lst = [1, 2, 3]\n",
    "lst[2] = 4\n",
    "print(lst)\n",
    "lst.append(3)\n",
    "print(lst)"
   ]
  },
  {
   "cell_type": "code",
   "execution_count": null,
   "metadata": {},
   "outputs": [],
   "source": [
    "# loop through the list items\n",
    "for l in lst:\n",
    "    print(l)"
   ]
  },
  {
   "cell_type": "code",
   "execution_count": null,
   "metadata": {},
   "outputs": [],
   "source": [
    "# check if item exists\n",
    "if 3 in lst:\n",
    "    print('exists')\n",
    "print(3 in lst)"
   ]
  },
  {
   "cell_type": "code",
   "execution_count": null,
   "metadata": {},
   "outputs": [],
   "source": [
    "# String as list of letters\n",
    "str = 'am I a list?'\n",
    "print(type(str))\n",
    "for s in str:\n",
    "    print(s)"
   ]
  },
  {
   "cell_type": "code",
   "execution_count": null,
   "metadata": {},
   "outputs": [],
   "source": [
    "# slicing\n",
    "str = 'am I a list?'\n",
    "print(str[1:])\n",
    "print(str[:5])\n",
    "print(str[::-1])"
   ]
  },
  {
   "cell_type": "code",
   "execution_count": null,
   "metadata": {},
   "outputs": [],
   "source": [
    "# Len, append, remove, pop\n",
    "lst = [5, 2, 3, 4]\n",
    "print(len(lst))\n",
    "lst.append(5)\n",
    "print(lst)\n",
    "lst.remove(2)\n",
    "print(lst)\n",
    "# pop with index or last\n",
    "lst.pop(1) # or pop()\n",
    "print(lst)\n"
   ]
  },
  {
   "cell_type": "code",
   "execution_count": null,
   "metadata": {},
   "outputs": [],
   "source": [
    "# append vs extends\n",
    "lst = [1, 2, 3, 4]\n",
    "lst1 = [1, 2, 3, 4]\n",
    "lst2 = [5, 6, 7]\n",
    "lst.append(lst2)\n",
    "print(lst)\n",
    "lst1.extend(lst2)\n",
    "print(lst1)"
   ]
  },
  {
   "cell_type": "code",
   "execution_count": null,
   "metadata": {},
   "outputs": [],
   "source": [
    "# reverse, sort, sorted\n",
    "lst = [5, 4, 3, 2, 1]\n",
    "lst.reverse()\n",
    "print('reversed:', lst)\n",
    "lst = [2, 4, 3, 5, 1]\n",
    "print('sorted create a new list:', sorted(lst), lst)\n",
    "lst.sort()\n",
    "print('sort change the original list:', lst)"
   ]
  },
  {
   "cell_type": "code",
   "execution_count": null,
   "metadata": {},
   "outputs": [],
   "source": [
    "# take second element for sort\n",
    "def takeSecond(elem):\n",
    "    return elem[1]\n",
    "\n",
    "# random list\n",
    "random = [[2, 2], [3, 4], [4, 1], [1, 3]]\n",
    "\n",
    "# sort list with key\n",
    "random.sort(key=takeSecond)\n",
    "# random.sort(key=takeSecond, reverse=True)\n",
    "\n",
    "# print list\n",
    "print('Sorted list:', random)"
   ]
  },
  {
   "cell_type": "code",
   "execution_count": null,
   "metadata": {},
   "outputs": [],
   "source": [
    "# everything is an object - 2 variables that points to the same object\n",
    "a = [1, 2]\n",
    "b = a\n",
    "print(b)\n",
    "b.append(3)\n",
    "print(b)\n",
    "print(a)"
   ]
  },
  {
   "cell_type": "code",
   "execution_count": null,
   "metadata": {},
   "outputs": [],
   "source": []
  }
 ],
 "metadata": {
  "kernelspec": {
   "display_name": "Python 3",
   "language": "python",
   "name": "python3"
  },
  "language_info": {
   "codemirror_mode": {
    "name": "ipython",
    "version": 3
   },
   "file_extension": ".py",
   "mimetype": "text/x-python",
   "name": "python",
   "nbconvert_exporter": "python",
   "pygments_lexer": "ipython3",
   "version": "3.7.5"
  }
 },
 "nbformat": 4,
 "nbformat_minor": 4
}
