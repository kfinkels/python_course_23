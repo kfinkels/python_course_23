{
 "cells": [
  {
   "cell_type": "code",
   "execution_count": null,
   "metadata": {},
   "outputs": [],
   "source": [
    "def my_func():\n",
    "    print(\"Hello World\")\n",
    "    \n",
    "my_func()"
   ]
  },
  {
   "cell_type": "code",
   "execution_count": null,
   "metadata": {},
   "outputs": [],
   "source": [
    "# params and return value\n",
    "def my_func(a, b):\n",
    "    return a + b\n",
    "    \n",
    "print(my_func('Hello', 'World'))"
   ]
  },
  {
   "cell_type": "code",
   "execution_count": null,
   "metadata": {},
   "outputs": [],
   "source": [
    "# args\n",
    "def test_args(arg, *args):\n",
    "    print(f'first normal arg: {arg}')\n",
    "    for a in args:\n",
    "        print(f'another arg from {a}')\n",
    "\n",
    "test_args('first','var1','var2','var3')\n",
    "print('*' * 10)\n",
    "args = ('var1','var2','var3')\n",
    "#test_args('first', args)\n",
    "test_args('first', *args)"
   ]
  },
  {
   "cell_type": "code",
   "execution_count": null,
   "metadata": {},
   "outputs": [],
   "source": [
    "def func(a=None, b=None):\n",
    "    print(a)\n",
    "    print(b)\n",
    "    print('*****')\n",
    "    \n",
    "func(1, 2)\n",
    "func(1)\n",
    "func(a=1, b=2)\n",
    "func(b=1, a=2)\n",
    "func(b=1)\n",
    "\n",
    "\n",
    "\n"
   ]
  },
  {
   "cell_type": "code",
   "execution_count": null,
   "metadata": {},
   "outputs": [],
   "source": [
    "# kwargs\n",
    "def my_func(**kwargs):\n",
    "    if kwargs is not None:\n",
    "        for key, value in kwargs.items():\n",
    "            print(f'{key} == {value}')\n",
    "\n",
    "my_func(a='1', b='2')\n",
    "print('*'*10)\n",
    "params = {'a': '1', 'b': '2'}\n",
    "my_func(**params)"
   ]
  },
  {
   "cell_type": "code",
   "execution_count": null,
   "metadata": {},
   "outputs": [],
   "source": [
    "# Default parameter value\n",
    "def my_func(arg='Default'):\n",
    "    print(f'arg is {arg}')\n",
    "my_func()\n",
    "print('*'*10)\n",
    "my_func('specific')"
   ]
  },
  {
   "cell_type": "code",
   "execution_count": null,
   "metadata": {},
   "outputs": [],
   "source": [
    "# multi return (as tuple)\n",
    "def my_func():\n",
    "    return 'first', 'second'\n",
    "a = my_func()\n",
    "x, y = my_func()\n",
    "print(a)\n",
    "print(x, y)"
   ]
  },
  {
   "cell_type": "code",
   "execution_count": null,
   "metadata": {},
   "outputs": [],
   "source": [
    "# calling params explicit (order doesn'y matter)\n",
    "def func(param1, param2):\n",
    "     print(f'{param1} {param2}')\n",
    "        \n",
    "func('Hello', 'World')\n",
    "func(param2='World', param1='Hello')"
   ]
  },
  {
   "cell_type": "code",
   "execution_count": null,
   "metadata": {},
   "outputs": [],
   "source": [
    "def main():\n",
    "     print(\"hello world\")\n",
    "\n",
    "if __name__== \"__main__\":\n",
    "    main()"
   ]
  },
  {
   "cell_type": "code",
   "execution_count": null,
   "metadata": {},
   "outputs": [],
   "source": [
    "# python 3: Support for type hints\n",
    "def greeting(name: str) -> str:\n",
    "    return 'Hello ' + name\n",
    "\n",
    "print(greeting('Keren'))\n",
    "#print(greeting(3))\n"
   ]
  },
  {
   "cell_type": "code",
   "execution_count": null,
   "metadata": {},
   "outputs": [],
   "source": [
    "# Type aliases\n",
    "from typing import List\n",
    "Vector = List[float]\n",
    "\n",
    "def scale(scalar: float, vector: Vector) -> Vector:\n",
    "    return [scalar * num for num in vector]\n",
    "\n",
    "# typechecks; a list of floats qualifies as a Vector.\n",
    "new_vector = scale(2.0, [1.0, -4.2, 5.4])\n",
    "print(new_vector)"
   ]
  },
  {
   "cell_type": "code",
   "execution_count": null,
   "metadata": {},
   "outputs": [],
   "source": [
    "# Create new type\n",
    "from typing import NewType\n",
    "\n",
    "UserId = NewType('UserId', int)\n",
    "some_id = UserId(524313)\n",
    "other = UserId('a')\n",
    "print(some_id)\n",
    "print(other)"
   ]
  },
  {
   "cell_type": "code",
   "execution_count": null,
   "metadata": {},
   "outputs": [],
   "source": []
  }
 ],
 "metadata": {
  "kernelspec": {
   "display_name": "Python 3",
   "language": "python",
   "name": "python3"
  },
  "language_info": {
   "codemirror_mode": {
    "name": "ipython",
    "version": 3
   },
   "file_extension": ".py",
   "mimetype": "text/x-python",
   "name": "python",
   "nbconvert_exporter": "python",
   "pygments_lexer": "ipython3",
   "version": "3.7.5"
  }
 },
 "nbformat": 4,
 "nbformat_minor": 4
}
