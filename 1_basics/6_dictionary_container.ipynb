{
 "cells": [
  {
   "cell_type": "code",
   "execution_count": null,
   "metadata": {},
   "outputs": [],
   "source": [
    "# unordered, changeable\n",
    "# initialize dict - better with {}\n",
    "dict1 = {'name': 'John', 1: [2, 4, 3]}\n",
    "print(dict1)\n",
    "# using dict()\n",
    "dict2 = dict({1:'apple', 2:'ball'})\n",
    "print(dict2)"
   ]
  },
  {
   "cell_type": "code",
   "execution_count": null,
   "metadata": {},
   "outputs": [],
   "source": [
    "print(dict1['name'])\n",
    "# this will thrown an error\n",
    "print(dict1['age'])"
   ]
  },
  {
   "cell_type": "code",
   "execution_count": null,
   "metadata": {},
   "outputs": [],
   "source": [
    "print(dict1.get('age'))\n",
    "print(dict1.get('age', 20))"
   ]
  },
  {
   "cell_type": "code",
   "execution_count": null,
   "metadata": {},
   "outputs": [],
   "source": [
    "# creating a dict from keys\n",
    "marks = {}.fromkeys(['Math','English','Science'], 0)\n",
    "marks"
   ]
  },
  {
   "cell_type": "code",
   "execution_count": null,
   "metadata": {},
   "outputs": [],
   "source": [
    "# loop through the dict\n",
    "for item in marks.items():\n",
    "    print(item)\n",
    "# getting the keys\n",
    "print(list(marks.keys()))\n",
    "# getting the values\n",
    "print(list(marks.values()))"
   ]
  },
  {
   "cell_type": "code",
   "execution_count": null,
   "metadata": {},
   "outputs": [],
   "source": [
    "# compare\n",
    "a = {'a': 1, 'b': 2}\n",
    "b = {'b': 2, 'a': 1}\n",
    "a == b"
   ]
  },
  {
   "cell_type": "code",
   "execution_count": null,
   "metadata": {},
   "outputs": [],
   "source": [
    "print('a' in a)"
   ]
  },
  {
   "cell_type": "code",
   "execution_count": null,
   "metadata": {},
   "outputs": [],
   "source": [
    "# key can be an object\n",
    "class A:\n",
    "    pass\n",
    "\n",
    "a = A()\n",
    "dict1 = {a: 1}\n",
    "print(dict1)\n",
    "print(dict1.get(a))"
   ]
  },
  {
   "cell_type": "code",
   "execution_count": null,
   "metadata": {},
   "outputs": [],
   "source": []
  }
 ],
 "metadata": {
  "kernelspec": {
   "display_name": "Python 3",
   "language": "python",
   "name": "python3"
  },
  "language_info": {
   "codemirror_mode": {
    "name": "ipython",
    "version": 3
   },
   "file_extension": ".py",
   "mimetype": "text/x-python",
   "name": "python",
   "nbconvert_exporter": "python",
   "pygments_lexer": "ipython3",
   "version": "3.7.5"
  }
 },
 "nbformat": 4,
 "nbformat_minor": 4
}
