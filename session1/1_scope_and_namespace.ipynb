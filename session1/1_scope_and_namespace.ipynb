{
 "cells": [
  {
   "cell_type": "code",
   "execution_count": null,
   "metadata": {},
   "outputs": [],
   "source": [
    "def scope_test():\n",
    "    def do_local():\n",
    "        spam = \"local spam\"\n",
    "        print(\"Inside do_local:\", spam)\n",
    "\n",
    "    spam = \"test spam\"\n",
    "    do_local()\n",
    "    print(\"After local assignment:\", spam)\n",
    "\n",
    "scope_test()"
   ]
  },
  {
   "cell_type": "code",
   "execution_count": null,
   "metadata": {},
   "outputs": [],
   "source": [
    "def scope_test():\n",
    "    def do_nonlocal():\n",
    "        nonlocal spam\n",
    "        spam = \"nonlocal spam\"\n",
    "        print(\"Inside do_nonlocal:\", spam)\n",
    "\n",
    "    spam = \"test spam\"\n",
    "    do_nonlocal()\n",
    "    print(\"After nonlocal assignment:\", spam)\n",
    "\n",
    "scope_test()\n",
    "#spam is not declared outside the scope_test func\n",
    "# print(\"In global scope:\", spam) "
   ]
  },
  {
   "cell_type": "code",
   "execution_count": null,
   "metadata": {},
   "outputs": [],
   "source": [
    "def scope_test():\n",
    "    def do_global():\n",
    "        global spam\n",
    "        spam = \"global spam\" # spam is now global\n",
    "#         print(f'In do_global: {id(spam)}')\n",
    "        print(\"Inside do_global:\", spam)\n",
    "\n",
    "    spam = \"test spam\"\n",
    "#     print(f'In scope_test {id(spam)}')\n",
    "    do_global()\n",
    "    print(\"After global assignment:\", spam)\n",
    "\n",
    "spam = \"initial spam\"\n",
    "scope_test()\n",
    "# print(f'In global scope: {id(spam)}')\n",
    "# Changing an immutable attribute inside a method crate a new attribute\n",
    "print(\"In global scope:\", spam) "
   ]
  },
  {
   "cell_type": "code",
   "execution_count": null,
   "metadata": {},
   "outputs": [],
   "source": []
  }
 ],
 "metadata": {
  "kernelspec": {
   "display_name": "Python 3 (ipykernel)",
   "language": "python",
   "name": "python3"
  },
  "language_info": {
   "codemirror_mode": {
    "name": "ipython",
    "version": 3
   },
   "file_extension": ".py",
   "mimetype": "text/x-python",
   "name": "python",
   "nbconvert_exporter": "python",
   "pygments_lexer": "ipython3",
   "version": "3.11.4"
  }
 },
 "nbformat": 4,
 "nbformat_minor": 4
}
